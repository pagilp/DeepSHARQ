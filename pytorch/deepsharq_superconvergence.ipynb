{
 "cells": [
  {
   "cell_type": "markdown",
   "id": "c8cfa4f0",
   "metadata": {},
   "source": [
    "## Import Required Packages"
   ]
  },
  {
   "cell_type": "code",
   "execution_count": null,
   "id": "47650355",
   "metadata": {},
   "outputs": [],
   "source": [
    "import os\n",
    "import torch\n",
    "from torch.utils.data import DataLoader\n",
    "from torch.utils.tensorboard import SummaryWriter\n",
    "from torch.optim import Adam\n",
    "\n",
    "from pytorch_helper import *"
   ]
  },
  {
   "cell_type": "markdown",
   "id": "a699e74a",
   "metadata": {},
   "source": [
    "## Global Configuration"
   ]
  },
  {
   "cell_type": "code",
   "execution_count": null,
   "id": "a2355f8c",
   "metadata": {},
   "outputs": [],
   "source": [
    "# Configure Device\n",
    "use_cuda = True\n",
    "device = torch.device(\"cuda\" if torch.cuda.is_available() and use_cuda else \"cpu\")\n",
    "\n",
    "# Setting manual seed for reproducability, also applies to gpu.\n",
    "# https://pytorch.org/docs/stable/notes/randomness.html\n",
    "torch.manual_seed(1337)"
   ]
  },
  {
   "cell_type": "markdown",
   "id": "232f9d5c",
   "metadata": {},
   "source": [
    "## Training Configuration"
   ]
  },
  {
   "cell_type": "code",
   "execution_count": null,
   "id": "1324bba5",
   "metadata": {},
   "outputs": [],
   "source": [
    "# Epochs and batch size\n",
    "MAX_EPOCH = 1000\n",
    "BATCH_SIZE = 300\n",
    "\n",
    "# NN architecture\n",
    "HIDDEN = 5\n",
    "NEURONS = 250\n",
    "INPUT = 6\n",
    "OUTPUT = 256\n",
    "\n",
    "# Learning rate schedule configuration\n",
    "MAX_LR = 4e-2\n",
    "START_LR = 0.001\n",
    "END_LR = 2e-9\n",
    "DIV_FACTOR = MAX_LR / START_LR\n",
    "FINAL_DIV_FACTOR = MAX_LR / END_LR\n",
    "\n",
    "# Regularization factor\n",
    "REG_FACTOR = 0.00001"
   ]
  },
  {
   "cell_type": "markdown",
   "id": "9decc1bf",
   "metadata": {},
   "source": [
    "## Create Log Paths"
   ]
  },
  {
   "cell_type": "code",
   "execution_count": null,
   "id": "0d0e1c29",
   "metadata": {},
   "outputs": [],
   "source": [
    "# Create path for tensorboard log\n",
    "tensorboard_path = \"./runs/\"\n",
    "if not os.path.exists(tensorboard_path):\n",
    "    os.makedirs(tensorboard_path)\n",
    "    \n",
    "# Create path to save models\n",
    "models_path = \"./models/\"\n",
    "if not os.path.exists(models_path):\n",
    "    os.makedirs(models_path)\n",
    "\n",
    "# Tensorboard setup ´tensorboard --logdir=runs´ -> http://localhost:6006/#scalars\n",
    "log_name = \"leakyReLU({},{})_K_{}_max_lr={}_div_factor={}_final_div_factor={}_reg_factor={}\".format(HIDDEN,NEURONS,MAX_EPOCH,MAX_LR,DIV_FACTOR,FINAL_DIV_FACTOR,REG_FACTOR)\n",
    "model_log_dir = models_path+log_name\n",
    "tensorboard_log_dir = tensorboard_path+log_name\n",
    "writer = SummaryWriter(log_dir=tensorboard_log_dir)"
   ]
  },
  {
   "cell_type": "markdown",
   "id": "c3774648",
   "metadata": {},
   "source": [
    "## Load Dataset"
   ]
  },
  {
   "cell_type": "code",
   "execution_count": null,
   "id": "1b3fd51d",
   "metadata": {},
   "outputs": [],
   "source": [
    "# Get Train and Test datasets\n",
    "train, validation, test = get_data_sets_k(\"datasets/dataset.csv\")\n",
    "\n",
    "train_dl = DataLoader(dataset=train, batch_size=BATCH_SIZE, shuffle=True, num_workers=4, pin_memory=True)\n",
    "validation_dl = DataLoader(dataset=validation, batch_size=BATCH_SIZE, shuffle=False, num_workers=4, pin_memory=True)\n",
    "test_dl = DataLoader(dataset=test, batch_size=BATCH_SIZE, shuffle=False, num_workers=4, pin_memory=True)"
   ]
  },
  {
   "cell_type": "markdown",
   "id": "d7ffb7df",
   "metadata": {},
   "source": [
    "## Initialize Model and Optimizer"
   ]
  },
  {
   "cell_type": "code",
   "execution_count": null,
   "id": "1baa7cf6",
   "metadata": {},
   "outputs": [],
   "source": [
    "model = DeepHEC(hidden_layers=HIDDEN, layer_size=NEURONS, inputs=INPUT, outputs=OUTPUT)\n",
    "model.to(device)\n",
    "optimizer = torch.optim.SGD(model.parameters(), lr=1e-2, momentum=0.9, weight_decay=REG_FACTOR)\n",
    "scheduler = torch.optim.lr_scheduler.OneCycleLR(optimizer, max_lr=MAX_LR, steps_per_epoch=len(train_dl), epochs=MAX_EPOCH, div_factor=DIV_FACTOR, final_div_factor=FINAL_DIV_FACTOR)\n",
    "\n",
    "# for model inspection\n",
    "print(model)"
   ]
  },
  {
   "cell_type": "markdown",
   "id": "886d3b76",
   "metadata": {},
   "source": [
    "## Training Loop"
   ]
  },
  {
   "cell_type": "code",
   "execution_count": null,
   "id": "f4b4df99",
   "metadata": {},
   "outputs": [],
   "source": [
    "# Cross entropy loss for classification\n",
    "loss_fn = nn.CrossEntropyLoss()\n",
    "\n",
    "for epoch in range(1,MAX_EPOCH+1):\n",
    "    model.train()\n",
    "    train_loss = 0.\n",
    "    lr = scheduler.get_last_lr()[0]\n",
    "    \n",
    "    # Run batch\n",
    "    for batch, (X, y) in enumerate(train_dl):\n",
    "        # Compute prediction and loss\n",
    "        pred_k = model(X.to(device))\n",
    "        loss = loss_fn(pred_k, torch.flatten(y.to(device)))\n",
    "        train_loss += loss.item()\n",
    "\n",
    "        # Backpropagation\n",
    "        optimizer.zero_grad()\n",
    "        loss.backward()\n",
    "        optimizer.step()\n",
    "        scheduler.step()\n",
    "        \n",
    "    # Compute train and validation loss\n",
    "    train_loss = train_loss / float(len(train_dl))\n",
    "    validation_loss, correct_k = validate_model_k(model, validation_dl, device)\n",
    "    \n",
    "    # Log data for Tensorboard\n",
    "    print(f\"Epoch {epoch}/{MAX_EPOCH}, t-loss={train_loss:>8f}, valid-acc-k:{(100*correct_k):>8f}%, v-loss={validation_loss:>8f}\")\n",
    "    writer.add_scalar(\"Loss/train\", train_loss, epoch-1)\n",
    "    writer.add_scalar(\"Loss/validation\", validation_loss, epoch-1)\n",
    "    writer.add_scalar(\"Accuracy(k)/validation\", 100.*correct_k, epoch-1)\n",
    "    writer.add_scalar(\"Scheduler/lr\" ,lr, epoch-1)\n",
    "    writer.flush()\n",
    "    \n",
    "# Save model\n",
    "os.mkdir(model_log_dir)\n",
    "torch.save(model.state_dict(),model_log_dir+\"/model\")\n",
    "writer.close()"
   ]
  }
 ],
 "metadata": {
  "kernelspec": {
   "display_name": "Python 3 (ipykernel)",
   "language": "python",
   "name": "python3"
  },
  "language_info": {
   "codemirror_mode": {
    "name": "ipython",
    "version": 3
   },
   "file_extension": ".py",
   "mimetype": "text/x-python",
   "name": "python",
   "nbconvert_exporter": "python",
   "pygments_lexer": "ipython3",
   "version": "3.10.6"
  }
 },
 "nbformat": 4,
 "nbformat_minor": 5
}
